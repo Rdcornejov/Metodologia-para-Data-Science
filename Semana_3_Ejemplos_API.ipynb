{
  "nbformat": 4,
  "nbformat_minor": 0,
  "metadata": {
    "colab": {
      "provenance": [],
      "include_colab_link": true
    },
    "kernelspec": {
      "name": "python3",
      "display_name": "Python 3"
    },
    "language_info": {
      "name": "python"
    }
  },
  "cells": [
    {
      "cell_type": "markdown",
      "metadata": {
        "id": "view-in-github",
        "colab_type": "text"
      },
      "source": [
        "<a href=\"https://colab.research.google.com/github/Rdcornejov/Metodologia-para-Data-Science/blob/main/Semana_3_Ejemplos_API.ipynb\" target=\"_parent\"><img src=\"https://colab.research.google.com/assets/colab-badge.svg\" alt=\"Open In Colab\"/></a>"
      ]
    },
    {
      "cell_type": "markdown",
      "source": [
        "## Recursos para recolectar datos desde solicitud API\n",
        "- Hacer una solicitud a una API de su interés (como la de CoinGecko, OpenWeatherMap o una API de películas).\n",
        "- El conocimiento de Postman no es estrictamente necesario para trabajar con APIs en Python (ya que se puede hacer directamente desde el código con librerías como requests),"
      ],
      "metadata": {
        "id": "AQISG5RbXGvp"
      }
    },
    {
      "cell_type": "code",
      "execution_count": 1,
      "metadata": {
        "id": "ZK6AjxdIWnix"
      },
      "outputs": [],
      "source": [
        "#importando librerias\n",
        "import requests\n",
        "import json"
      ]
    },
    {
      "cell_type": "markdown",
      "source": [
        "## 1 .Obtener precios de criptomonedas con la API de CoinGecko"
      ],
      "metadata": {
        "id": "MXHdha8yXcw2"
      }
    },
    {
      "cell_type": "code",
      "source": [
        "# url de la API\n",
        "url = \"https://api.coingecko.com/api/v3/simple/price\"\n"
      ],
      "metadata": {
        "id": "wPzEVUKcWqyP"
      },
      "execution_count": 2,
      "outputs": []
    },
    {
      "cell_type": "code",
      "source": [
        "# los parámetros de la solicitud\n",
        "parameters = {\n",
        "    \"ids\": \"bitcoin,ethereum\",  # Las criptomonedas que queremos consultar\n",
        "    \"vs_currencies\": \"usd\"      # La divisa en la que queremos los precios\n",
        "}\n",
        "\n",
        "# realizamos la solicitud GET\n",
        "response = requests.get(url, params=parameters)\n"
      ],
      "metadata": {
        "id": "Cm3FHvwXWtX3"
      },
      "execution_count": 3,
      "outputs": []
    },
    {
      "cell_type": "code",
      "source": [
        "# revisamos que la solicitud fue exitosa\n",
        "if response.status_code == 200:\n",
        "    # Convertimos la respuesta a un diccionario de Python\n",
        "    data = response.json()\n",
        "    # Mostramos los precios de Bitcoin y Ethereum\n",
        "    print(\"Precio de Bitcoin en USD:\", data['bitcoin']['usd'])\n",
        "    print(\"Precio de Ethereum en USD:\", data['ethereum']['usd'])\n",
        "else:\n",
        "    print(\"Error en la solicitud:\", response.status_code)"
      ],
      "metadata": {
        "colab": {
          "base_uri": "https://localhost:8080/"
        },
        "id": "2lbTwtNBW2n-",
        "outputId": "13c92cd3-696b-456b-e24d-b81bc7fc2c99"
      },
      "execution_count": 4,
      "outputs": [
        {
          "output_type": "stream",
          "name": "stdout",
          "text": [
            "Precio de Bitcoin en USD: 56567\n",
            "Precio de Ethereum en USD: 2342.73\n"
          ]
        }
      ]
    },
    {
      "cell_type": "markdown",
      "source": [
        "#  2. Clima actual de una ciudad usando la API de OpenWeatherMap"
      ],
      "metadata": {
        "id": "R_9qvzEKXo-2"
      }
    },
    {
      "cell_type": "code",
      "source": [
        "# url base de la API\n",
        "api_url = \"http://api.openweathermap.org/data/2.5/weather\"\n",
        "\n",
        "# clave API (es necesario obtenerla en el sitio web de OpenWeatherMap)\n",
        "api_key = \"TU_CLAVE_API_AQUÍ\"  # Reemplaza con tu clave\n"
      ],
      "metadata": {
        "id": "GJo2oXEQXrvh"
      },
      "execution_count": null,
      "outputs": []
    },
    {
      "cell_type": "code",
      "source": [
        "# parámetros de la consulta\n",
        "city = \"London\"\n",
        "parameters = {\n",
        "    \"q\": city,          # Ciudad de la que queremos obtener el clima\n",
        "    \"appid\": api_key,    # Nuestra clave API\n",
        "    \"units\": \"metric\"    # Para obtener la temperatura en grados Celsius\n",
        "}\n"
      ],
      "metadata": {
        "id": "e0J5lp8FXxCz"
      },
      "execution_count": null,
      "outputs": []
    },
    {
      "cell_type": "code",
      "source": [
        "# realizamos la solicitud GET a la API\n",
        "response = requests.get(api_url, params=parameters)\n",
        "\n",
        "# verificamos que la solicitud fue exitosa\n",
        "if response.status_code == 200:\n",
        "    # Convertimos la respuesta a un diccionario de Python\n",
        "    data = response.json()\n",
        "    # Extraemos la temperatura actual y la descripción del clima\n",
        "    temp = data['main']['temp']\n",
        "    weather_desc = data['weather'][0]['description']\n",
        "    print(f\"El clima actual en {city}:\")\n",
        "    print(f\"Temperatura: {temp}°C\")\n",
        "    print(f\"Descripción: {weather_desc.capitalize()}\")\n",
        "else:\n",
        "    print(\"Error en la solicitud:\", response.status_code)"
      ],
      "metadata": {
        "id": "38j6___hXyjr"
      },
      "execution_count": null,
      "outputs": []
    },
    {
      "cell_type": "markdown",
      "source": [
        "### Pasos para generar una API Key en OpenWeatherMap:\n",
        "1. Registrarse en OpenWeatherMap:\n",
        "Completar el formulario de registro proporcionando tu dirección de correo electrónico.\n",
        "\n",
        "2. Iniciar sesión, menú de tu cuenta y selecciona \"API Keys\" o simplemente ve al siguiente enlace: API Keys Dashboard.\n",
        "\n",
        "3. Generar una nueva clave API: en el panel de control de las claves API, crear una nueva API key,click en \"Generate\" o \"Create\".\n",
        "\n",
        "\n"
      ],
      "metadata": {
        "id": "aMvURA4XX_-_"
      }
    }
  ]
}