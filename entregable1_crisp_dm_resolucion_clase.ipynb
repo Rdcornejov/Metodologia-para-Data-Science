{
  "nbformat": 4,
  "nbformat_minor": 0,
  "metadata": {
    "colab": {
      "provenance": [],
      "include_colab_link": true
    },
    "kernelspec": {
      "name": "python3",
      "display_name": "Python 3"
    },
    "language_info": {
      "name": "python"
    }
  },
  "cells": [
    {
      "cell_type": "markdown",
      "metadata": {
        "id": "view-in-github",
        "colab_type": "text"
      },
      "source": [
        "<a href=\"https://colab.research.google.com/github/Rdcornejov/Metodologia-para-Data-Science/blob/main/entregable1_crisp_dm_resolucion_clase.ipynb\" target=\"_parent\"><img src=\"https://colab.research.google.com/assets/colab-badge.svg\" alt=\"Open In Colab\"/></a>"
      ]
    },
    {
      "cell_type": "markdown",
      "source": [
        "# Metodologías de Data Science\n",
        "## Ejercicio 1 - CRISP DM\n",
        "## Análisis de Sentimientos en Reviews de Productos\n",
        "### Cubre los primeros pasos del ciclo de vida de un proyecto de Data Science hasta la fase de preparación de los datos.\n",
        "\n",
        "\n",
        "Desde este notebook el grupo crea su bitácora del caso de proyecto.\n",
        "Incluir:\n",
        "- Descripción del problema\n",
        "- Objetivos del proyecto y el ciclo de vida utilizando CRISP-DM.\n",
        "- Análisis exploratorio utilizando datos sencillos y librerías como pandas y matplotlib.\n",
        "- Propuesta de modelo, definir métodos o framework, no entrenar."
      ],
      "metadata": {
        "id": "CJKb8M55hbxT"
      }
    },
    {
      "cell_type": "markdown",
      "source": [],
      "metadata": {
        "id": "KIH5s7DFqGZ1"
      }
    },
    {
      "cell_type": "code",
      "source": [
        "# Instalar librerias necesarias\n",
        "\n",
        "import pandas as pd\n",
        "import matplotlib.pyplot as plt\n",
        "import seaborn as sns\n",
        "import string\n",
        "from sklearn.feature_extraction.text import CountVectorizer, TfidfVectorizer\n",
        "from sklearn.model_selection import train_test_split\n",
        "from nltk.corpus import stopwords\n",
        "from nltk.tokenize import word_tokenize\n",
        "from nltk.stem import PorterStemmer\n",
        "import nltk"
      ],
      "metadata": {
        "id": "-7mgX8FcjMcy"
      },
      "execution_count": null,
      "outputs": []
    },
    {
      "cell_type": "code",
      "source": [
        "# Descargar recursos de NLTK\n",
        "nltk.download('punkt')\n",
        "nltk.download('stopwords')"
      ],
      "metadata": {
        "colab": {
          "base_uri": "https://localhost:8080/"
        },
        "id": "10-TP8Owq9og",
        "outputId": "9cfeb5d1-dc1f-4b5a-f7b1-65029cf17516"
      },
      "execution_count": null,
      "outputs": [
        {
          "output_type": "stream",
          "name": "stderr",
          "text": [
            "[nltk_data] Downloading package punkt to /root/nltk_data...\n",
            "[nltk_data]   Unzipping tokenizers/punkt.zip.\n",
            "[nltk_data] Downloading package stopwords to /root/nltk_data...\n",
            "[nltk_data]   Unzipping corpora/stopwords.zip.\n"
          ]
        },
        {
          "output_type": "execute_result",
          "data": {
            "text/plain": [
              "True"
            ]
          },
          "metadata": {},
          "execution_count": 21
        }
      ]
    },
    {
      "cell_type": "markdown",
      "source": [
        "#1. Comprensión del Negocio\n",
        "Comprender el objetivo del negocio y definir el problema."
      ],
      "metadata": {
        "id": "MLJ_OBa6hoj2"
      }
    },
    {
      "cell_type": "markdown",
      "source": [
        "\n",
        "- **Comprender el Problema:** Identificar las necesidades del cliente y establecer metas claras para el análisis de sentimientos.\n",
        "- **Recolectar y Comprender los Datos:** Analizar las reviews de productos, entender su distribución y características.\n",
        "- **Preparación de los Datos:** Limpiar y preprocesar los datos para su uso en el modelo de análisis de sentimientos.\n",
        "- **Desarrollo de un Modelo Preliminar:** Proponer un modelo basado en técnicas básicas para clasificar los sentimientos en las reviews.\n"
      ],
      "metadata": {
        "id": "TWFTtDlImmx-"
      }
    },
    {
      "cell_type": "markdown",
      "source": [
        "   - _Propósito_: El propósito de este análisis es comprender las opiniones de los usuarios a través de sus reviews para identificar patrones de satisfacción o insatisfacción.\n",
        "   - _Métricas de Éxito_: Exactitud del modelo, interpretación clara de los patrones.\n"
      ],
      "metadata": {
        "id": "lLvEuhEym28N"
      }
    },
    {
      "cell_type": "markdown",
      "source": [
        "# 2. Comprensión de los Datos\n",
        "Analizar los datos disponibles.\n",
        "Opcional añadir más valores al dataset."
      ],
      "metadata": {
        "id": "SdQQs7Wdhw1M"
      }
    },
    {
      "cell_type": "markdown",
      "source": [
        "   - _Descripción del Dataset_: Contamos con un conjunto de datos que incluye el texto de las reviews y una etiqueta de sentimiento (positivo o negativo).\n",
        "   "
      ],
      "metadata": {
        "id": "HL16lDL4m8bu"
      }
    },
    {
      "cell_type": "code",
      "source": [
        "data = {\n",
        "    'ReviewText': [\n",
        "        'Great product, I loved it!', 'Terrible quality, very disappointed',\n",
        "        'Exactly what I needed', 'Not worth the money',\n",
        "        'Amazing, highly recommend!', 'Broke after one use'\n",
        "    ] * 100,\n",
        "    'Sentiment': ['Positive', 'Negative', 'Positive', 'Negative', 'Positive', 'Negative'] * 100\n",
        "}"
      ],
      "metadata": {
        "id": "wBA9d8ech2Tm"
      },
      "execution_count": null,
      "outputs": []
    },
    {
      "cell_type": "code",
      "source": [
        "df = pd.DataFrame(data)\n"
      ],
      "metadata": {
        "id": "H7h7zN8JnAmN"
      },
      "execution_count": null,
      "outputs": []
    },
    {
      "cell_type": "code",
      "source": [
        " # Análisis de la distribución de sentimientos\n",
        "contador_sentimientos = df['Sentiment'].value_counts()\n",
        "print(\"Distribución de Sentimientos:\\n\", contador_sentimientos)\n",
        "contador_sentimientos.plot(kind='bar', color=['green', 'red'])\n",
        "plt.title('Distribución de Sentimientos en Reviews')\n",
        "plt.xlabel('Sentimiento')\n",
        "plt.ylabel('Cantidad')\n",
        "plt.show()"
      ],
      "metadata": {
        "colab": {
          "base_uri": "https://localhost:8080/",
          "height": 609
        },
        "id": "x3qvBsUPnEka",
        "outputId": "1dd9ff0d-cf34-4061-ad49-ce45b10a863f"
      },
      "execution_count": null,
      "outputs": [
        {
          "output_type": "stream",
          "name": "stdout",
          "text": [
            "Distribución de Sentimientos:\n",
            " Sentiment\n",
            "Positive    300\n",
            "Negative    300\n",
            "Name: count, dtype: int64\n"
          ]
        },
        {
          "output_type": "display_data",
          "data": {
            "text/plain": [
              "<Figure size 640x480 with 1 Axes>"
            ],
            "image/png": "[encoded data removed]"
          },
          "metadata": {}
        }
      ]
    },
    {
      "cell_type": "markdown",
      "source": [
        "Interpretación: Observamos que los datos están equilibrados, con un número igual de reviews positivas y negativas. Esto es ideal para un análisis de sentimientos porque no habrá sesgo hacia una clase particular."
      ],
      "metadata": {
        "id": "A190rFeanl5S"
      }
    },
    {
      "cell_type": "code",
      "source": [
        "df['ReviewLength'] = df['ReviewText'].apply(len)\n",
        "sns.histplot(data=df, x='ReviewLength', hue='Sentiment', multiple='stack', palette=['green', 'red'])\n",
        "plt.title('Distribución de la Longitud de las Reviews')\n",
        "plt.xlabel('Longitud de la Review')\n",
        "plt.ylabel('Cantidad')\n",
        "plt.show()"
      ],
      "metadata": {
        "colab": {
          "base_uri": "https://localhost:8080/",
          "height": 472
        },
        "id": "gtxOvkFbnr3I",
        "outputId": "a3a9e2ce-16b5-4349-ed30-8cd9c77cb997"
      },
      "execution_count": null,
      "outputs": [
        {
          "output_type": "display_data",
          "data": {
            "text/plain": [
              "<Figure size 640x480 with 1 Axes>"
            ],
            "image/png": "[encoded data removed]"
          },
          "metadata": {}
        }
      ]
    },
    {
      "cell_type": "markdown",
      "source": [
        "La longitud de las reviews puede influir en cómo se expresan los sentimientos. Este gráfico nos permite ver si hay diferencias en la longitud entre las reviews positivas y negativas."
      ],
      "metadata": {
        "id": "lFYy3Wt7nwVS"
      }
    },
    {
      "cell_type": "markdown",
      "source": [
        "# 3. Preparación de los Datos\n",
        " Limpiar y preprocesar las imágenes para que sean utilizadas en el modelo."
      ],
      "metadata": {
        "id": "9bmkGyG2h2CO"
      }
    },
    {
      "cell_type": "code",
      "source": [
        "# 1. Limpieza de datos\n",
        "#Convertimos el texto a minúsculas y eliminamos la puntuación para asegurar que las palabras sean tratadas de manera uniforme.\n",
        "\n",
        "# Convertir a minúsculas\n",
        "df['CleanedText'] = df['ReviewText'].str.lower()\n",
        "\n",
        "# Eliminar puntuación\n",
        "df['CleanedText'] = df['CleanedText'].apply(lambda x: x.translate(str.maketrans('', '', string.punctuation)))\n",
        "\n"
      ],
      "metadata": {
        "id": "Y22wtRrdqrXI"
      },
      "execution_count": null,
      "outputs": []
    },
    {
      "cell_type": "code",
      "source": [
        "# 2. Tokenización y eliminación de stop words\n",
        "#Las reviews se dividen en palabras individuales y se eliminan las palabras comunes que no aportan valor (stop words).\n",
        "\n",
        "stop_words = set(stopwords.words('english'))\n",
        "\n",
        "def preprocess_text(text):\n",
        "    tokens = word_tokenize(text)\n",
        "    tokens = [word for word in tokens if word not in stop_words]\n",
        "    return ' '.join(tokens)\n",
        "\n",
        "df['TokenizedText'] = df['CleanedText'].apply(preprocess_text)\n"
      ],
      "metadata": {
        "id": "fDLh6dp6iAVs"
      },
      "execution_count": null,
      "outputs": []
    },
    {
      "cell_type": "code",
      "source": [
        "df.head(10)"
      ],
      "metadata": {
        "colab": {
          "base_uri": "https://localhost:8080/",
          "height": 363
        },
        "id": "ZG7GPN5erAoP",
        "outputId": "b2098efb-ada4-4692-88ee-173e83472a1b"
      },
      "execution_count": null,
      "outputs": [
        {
          "output_type": "execute_result",
          "data": {
            "text/plain": [
              "                            ReviewText Sentiment  \\\n",
              "0           Great product, I loved it!  Positive   \n",
              "1  Terrible quality, very disappointed  Negative   \n",
              "2                Exactly what I needed  Positive   \n",
              "3                  Not worth the money  Negative   \n",
              "4           Amazing, highly recommend!  Positive   \n",
              "5                  Broke after one use  Negative   \n",
              "6           Great product, I loved it!  Positive   \n",
              "7  Terrible quality, very disappointed  Negative   \n",
              "8                Exactly what I needed  Positive   \n",
              "9                  Not worth the money  Negative   \n",
              "\n",
              "                          CleanedText                  TokenizedText  \n",
              "0            great product i loved it            great product loved  \n",
              "1  terrible quality very disappointed  terrible quality disappointed  \n",
              "2               exactly what i needed                 exactly needed  \n",
              "3                 not worth the money                    worth money  \n",
              "4            amazing highly recommend       amazing highly recommend  \n",
              "5                 broke after one use                  broke one use  \n",
              "6            great product i loved it            great product loved  \n",
              "7  terrible quality very disappointed  terrible quality disappointed  \n",
              "8               exactly what i needed                 exactly needed  \n",
              "9                 not worth the money                    worth money  "
            ],
            "text/html": [
              "\n",
              "  <div id=\"df-8f5f7218-2fc4-4338-a61e-27a65937f341\" class=\"colab-df-container\">\n",
              "    <div>\n",
              "<style scoped>\n",
              "    .dataframe tbody tr th:only-of-type {\n",
              "        vertical-align: middle;\n",
              "    }\n",
              "\n",
              "    .dataframe tbody tr th {\n",
              "        vertical-align: top;\n",
              "    }\n",
              "\n",
              "    .dataframe thead th {\n",
              "        text-align: right;\n",
              "    }\n",
              "</style>\n",
              "<table border=\"1\" class=\"dataframe\">\n",
              "  <thead>\n",
              "    <tr style=\"text-align: right;\">\n",
              "      <th></th>\n",
              "      <th>ReviewText</th>\n",
              "      <th>Sentiment</th>\n",
              "      <th>CleanedText</th>\n",
              "      <th>TokenizedText</th>\n",
              "    </tr>\n",
              "  </thead>\n",
              "  <tbody>\n",
              "    <tr>\n",
              "      <th>0</th>\n",
              "      <td>Great product, I loved it!</td>\n",
              "      <td>Positive</td>\n",
              "      <td>great product i loved it</td>\n",
              "      <td>great product loved</td>\n",
              "    </tr>\n",
              "    <tr>\n",
              "      <th>1</th>\n",
              "      <td>Terrible quality, very disappointed</td>\n",
              "      <td>Negative</td>\n",
              "      <td>terrible quality very disappointed</td>\n",
              "      <td>terrible quality disappointed</td>\n",
              "    </tr>\n",
              "    <tr>\n",
              "      <th>2</th>\n",
              "      <td>Exactly what I needed</td>\n",
              "      <td>Positive</td>\n",
              "      <td>exactly what i needed</td>\n",
              "      <td>exactly needed</td>\n",
              "    </tr>\n",
              "    <tr>\n",
              "      <th>3</th>\n",
              "      <td>Not worth the money</td>\n",
              "      <td>Negative</td>\n",
              "      <td>not worth the money</td>\n",
              "      <td>worth money</td>\n",
              "    </tr>\n",
              "    <tr>\n",
              "      <th>4</th>\n",
              "      <td>Amazing, highly recommend!</td>\n",
              "      <td>Positive</td>\n",
              "      <td>amazing highly recommend</td>\n",
              "      <td>amazing highly recommend</td>\n",
              "    </tr>\n",
              "    <tr>\n",
              "      <th>5</th>\n",
              "      <td>Broke after one use</td>\n",
              "      <td>Negative</td>\n",
              "      <td>broke after one use</td>\n",
              "      <td>broke one use</td>\n",
              "    </tr>\n",
              "    <tr>\n",
              "      <th>6</th>\n",
              "      <td>Great product, I loved it!</td>\n",
              "      <td>Positive</td>\n",
              "      <td>great product i loved it</td>\n",
              "      <td>great product loved</td>\n",
              "    </tr>\n",
              "    <tr>\n",
              "      <th>7</th>\n",
              "      <td>Terrible quality, very disappointed</td>\n",
              "      <td>Negative</td>\n",
              "      <td>terrible quality very disappointed</td>\n",
              "      <td>terrible quality disappointed</td>\n",
              "    </tr>\n",
              "    <tr>\n",
              "      <th>8</th>\n",
              "      <td>Exactly what I needed</td>\n",
              "      <td>Positive</td>\n",
              "      <td>exactly what i needed</td>\n",
              "      <td>exactly needed</td>\n",
              "    </tr>\n",
              "    <tr>\n",
              "      <th>9</th>\n",
              "      <td>Not worth the money</td>\n",
              "      <td>Negative</td>\n",
              "      <td>not worth the money</td>\n",
              "      <td>worth money</td>\n",
              "    </tr>\n",
              "  </tbody>\n",
              "</table>\n",
              "</div>\n",
              "    <div class=\"colab-df-buttons\">\n",
              "\n",
              "  <div class=\"colab-df-container\">\n",
              "    <button class=\"colab-df-convert\" onclick=\"convertToInteractive('df-8f5f7218-2fc4-4338-a61e-27a65937f341')\"\n",
              "            title=\"Convert this dataframe to an interactive table.\"\n",
              "            style=\"display:none;\">\n",
              "\n",
              "  <svg xmlns=\"http://www.w3.org/2000/svg\" height=\"24px\" viewBox=\"0 -960 960 960\">\n",
              "    <path d=\"M120-120v-720h720v720H120Zm60-500h600v-160H180v160Zm220 220h160v-160H400v160Zm0 220h160v-160H400v160ZM180-400h160v-160H180v160Zm440 0h160v-160H620v160ZM180-180h160v-160H180v160Zm440 0h160v-160H620v160Z\"/>\n",
              "  </svg>\n",
              "    </button>\n",
              "\n",
              "  <style>\n",
              "    .colab-df-container {\n",
              "      display:flex;\n",
              "      gap: 12px;\n",
              "    }\n",
              "\n",
              "    .colab-df-convert {\n",
              "      background-color: #E8F0FE;\n",
              "      border: none;\n",
              "      border-radius: 50%;\n",
              "      cursor: pointer;\n",
              "      display: none;\n",
              "      fill: #1967D2;\n",
              "      height: 32px;\n",
              "      padding: 0 0 0 0;\n",
              "      width: 32px;\n",
              "    }\n",
              "\n",
              "    .colab-df-convert:hover {\n",
              "      background-color: #E2EBFA;\n",
              "      box-shadow: 0px 1px 2px rgba(60, 64, 67, 0.3), 0px 1px 3px 1px rgba(60, 64, 67, 0.15);\n",
              "      fill: #174EA6;\n",
              "    }\n",
              "\n",
              "    .colab-df-buttons div {\n",
              "      margin-bottom: 4px;\n",
              "    }\n",
              "\n",
              "    [theme=dark] .colab-df-convert {\n",
              "      background-color: #3B4455;\n",
              "      fill: #D2E3FC;\n",
              "    }\n",
              "\n",
              "    [theme=dark] .colab-df-convert:hover {\n",
              "      background-color: #434B5C;\n",
              "      box-shadow: 0px 1px 3px 1px rgba(0, 0, 0, 0.15);\n",
              "      filter: drop-shadow(0px 1px 2px rgba(0, 0, 0, 0.3));\n",
              "      fill: #FFFFFF;\n",
              "    }\n",
              "  </style>\n",
              "\n",
              "    <script>\n",
              "      const buttonEl =\n",
              "        document.querySelector('#df-8f5f7218-2fc4-4338-a61e-27a65937f341 button.colab-df-convert');\n",
              "      buttonEl.style.display =\n",
              "        google.colab.kernel.accessAllowed ? 'block' : 'none';\n",
              "\n",
              "      async function convertToInteractive(key) {\n",
              "        const element = document.querySelector('#df-8f5f7218-2fc4-4338-a61e-27a65937f341');\n",
              "        const dataTable =\n",
              "          await google.colab.kernel.invokeFunction('convertToInteractive',\n",
              "                                                    [key], {});\n",
              "        if (!dataTable) return;\n",
              "\n",
              "        const docLinkHtml = 'Like what you see? Visit the ' +\n",
              "          '<a target=\"_blank\" href=https://colab.research.google.com/notebooks/data_table.ipynb>data table notebook</a>'\n",
              "          + ' to learn more about interactive tables.';\n",
              "        element.innerHTML = '';\n",
              "        dataTable['output_type'] = 'display_data';\n",
              "        await google.colab.output.renderOutput(dataTable, element);\n",
              "        const docLink = document.createElement('div');\n",
              "        docLink.innerHTML = docLinkHtml;\n",
              "        element.appendChild(docLink);\n",
              "      }\n",
              "    </script>\n",
              "  </div>\n",
              "\n",
              "\n",
              "<div id=\"df-0e4814a3-f8fd-4ec8-891e-b74b54efd4f8\">\n",
              "  <button class=\"colab-df-quickchart\" onclick=\"quickchart('df-0e4814a3-f8fd-4ec8-891e-b74b54efd4f8')\"\n",
              "            title=\"Suggest charts\"\n",
              "            style=\"display:none;\">\n",
              "\n",
              "<svg xmlns=\"http://www.w3.org/2000/svg\" height=\"24px\"viewBox=\"0 0 24 24\"\n",
              "     width=\"24px\">\n",
              "    <g>\n",
              "        <path d=\"M19 3H5c-1.1 0-2 .9-2 2v14c0 1.1.9 2 2 2h14c1.1 0 2-.9 2-2V5c0-1.1-.9-2-2-2zM9 17H7v-7h2v7zm4 0h-2V7h2v10zm4 0h-2v-4h2v4z\"/>\n",
              "    </g>\n",
              "</svg>\n",
              "  </button>\n",
              "\n",
              "<style>\n",
              "  .colab-df-quickchart {\n",
              "      --bg-color: #E8F0FE;\n",
              "      --fill-color: #1967D2;\n",
              "      --hover-bg-color: #E2EBFA;\n",
              "      --hover-fill-color: #174EA6;\n",
              "      --disabled-fill-color: #AAA;\n",
              "      --disabled-bg-color: #DDD;\n",
              "  }\n",
              "\n",
              "  [theme=dark] .colab-df-quickchart {\n",
              "      --bg-color: #3B4455;\n",
              "      --fill-color: #D2E3FC;\n",
              "      --hover-bg-color: #434B5C;\n",
              "      --hover-fill-color: #FFFFFF;\n",
              "      --disabled-bg-color: #3B4455;\n",
              "      --disabled-fill-color: #666;\n",
              "  }\n",
              "\n",
              "  .colab-df-quickchart {\n",
              "    background-color: var(--bg-color);\n",
              "    border: none;\n",
              "    border-radius: 50%;\n",
              "    cursor: pointer;\n",
              "    display: none;\n",
              "    fill: var(--fill-color);\n",
              "    height: 32px;\n",
              "    padding: 0;\n",
              "    width: 32px;\n",
              "  }\n",
              "\n",
              "  .colab-df-quickchart:hover {\n",
              "    background-color: var(--hover-bg-color);\n",
              "    box-shadow: 0 1px 2px rgba(60, 64, 67, 0.3), 0 1px 3px 1px rgba(60, 64, 67, 0.15);\n",
              "    fill: var(--button-hover-fill-color);\n",
              "  }\n",
              "\n",
              "  .colab-df-quickchart-complete:disabled,\n",
              "  .colab-df-quickchart-complete:disabled:hover {\n",
              "    background-color: var(--disabled-bg-color);\n",
              "    fill: var(--disabled-fill-color);\n",
              "    box-shadow: none;\n",
              "  }\n",
              "\n",
              "  .colab-df-spinner {\n",
              "    border: 2px solid var(--fill-color);\n",
              "    border-color: transparent;\n",
              "    border-bottom-color: var(--fill-color);\n",
              "    animation:\n",
              "      spin 1s steps(1) infinite;\n",
              "  }\n",
              "\n",
              "  @keyframes spin {\n",
              "    0% {\n",
              "      border-color: transparent;\n",
              "      border-bottom-color: var(--fill-color);\n",
              "      border-left-color: var(--fill-color);\n",
              "    }\n",
              "    20% {\n",
              "      border-color: transparent;\n",
              "      border-left-color: var(--fill-color);\n",
              "      border-top-color: var(--fill-color);\n",
              "    }\n",
              "    30% {\n",
              "      border-color: transparent;\n",
              "      border-left-color: var(--fill-color);\n",
              "      border-top-color: var(--fill-color);\n",
              "      border-right-color: var(--fill-color);\n",
              "    }\n",
              "    40% {\n",
              "      border-color: transparent;\n",
              "      border-right-color: var(--fill-color);\n",
              "      border-top-color: var(--fill-color);\n",
              "    }\n",
              "    60% {\n",
              "      border-color: transparent;\n",
              "      border-right-color: var(--fill-color);\n",
              "    }\n",
              "    80% {\n",
              "      border-color: transparent;\n",
              "      border-right-color: var(--fill-color);\n",
              "      border-bottom-color: var(--fill-color);\n",
              "    }\n",
              "    90% {\n",
              "      border-color: transparent;\n",
              "      border-bottom-color: var(--fill-color);\n",
              "    }\n",
              "  }\n",
              "</style>\n",
              "\n",
              "  <script>\n",
              "    async function quickchart(key) {\n",
              "      const quickchartButtonEl =\n",
              "        document.querySelector('#' + key + ' button');\n",
              "      quickchartButtonEl.disabled = true;  // To prevent multiple clicks.\n",
              "      quickchartButtonEl.classList.add('colab-df-spinner');\n",
              "      try {\n",
              "        const charts = await google.colab.kernel.invokeFunction(\n",
              "            'suggestCharts', [key], {});\n",
              "      } catch (error) {\n",
              "        console.error('Error during call to suggestCharts:', error);\n",
              "      }\n",
              "      quickchartButtonEl.classList.remove('colab-df-spinner');\n",
              "      quickchartButtonEl.classList.add('colab-df-quickchart-complete');\n",
              "    }\n",
              "    (() => {\n",
              "      let quickchartButtonEl =\n",
              "        document.querySelector('#df-0e4814a3-f8fd-4ec8-891e-b74b54efd4f8 button');\n",
              "      quickchartButtonEl.style.display =\n",
              "        google.colab.kernel.accessAllowed ? 'block' : 'none';\n",
              "    })();\n",
              "  </script>\n",
              "</div>\n",
              "\n",
              "    </div>\n",
              "  </div>\n"
            ],
            "application/vnd.google.colaboratory.intrinsic+json": {
              "type": "dataframe",
              "variable_name": "df",
              "summary": "{\n  \"name\": \"df\",\n  \"rows\": 600,\n  \"fields\": [\n    {\n      \"column\": \"ReviewText\",\n      \"properties\": {\n        \"dtype\": \"category\",\n        \"num_unique_values\": 6,\n        \"samples\": [\n          \"Great product, I loved it!\",\n          \"Terrible quality, very disappointed\",\n          \"Broke after one use\"\n        ],\n        \"semantic_type\": \"\",\n        \"description\": \"\"\n      }\n    },\n    {\n      \"column\": \"Sentiment\",\n      \"properties\": {\n        \"dtype\": \"category\",\n        \"num_unique_values\": 2,\n        \"samples\": [\n          \"Negative\",\n          \"Positive\"\n        ],\n        \"semantic_type\": \"\",\n        \"description\": \"\"\n      }\n    },\n    {\n      \"column\": \"CleanedText\",\n      \"properties\": {\n        \"dtype\": \"category\",\n        \"num_unique_values\": 6,\n        \"samples\": [\n          \"great product i loved it\",\n          \"terrible quality very disappointed\"\n        ],\n        \"semantic_type\": \"\",\n        \"description\": \"\"\n      }\n    },\n    {\n      \"column\": \"TokenizedText\",\n      \"properties\": {\n        \"dtype\": \"category\",\n        \"num_unique_values\": 6,\n        \"samples\": [\n          \"great product loved\",\n          \"terrible quality disappointed\"\n        ],\n        \"semantic_type\": \"\",\n        \"description\": \"\"\n      }\n    }\n  ]\n}"
            }
          },
          "metadata": {},
          "execution_count": 23
        }
      ]
    },
    {
      "cell_type": "code",
      "source": [
        "# 3. Stemming\n",
        "#Se aplica stemming para reducir las palabras a su raíz, lo que ayuda a reducir la dimensionalidad del texto.\n",
        "ps = PorterStemmer()\n",
        "\n",
        "def stem_text(text):\n",
        "    tokens = word_tokenize(text)\n",
        "    stemmed_tokens = [ps.stem(word) for word in tokens]\n",
        "    return ' '.join(stemmed_tokens)\n",
        "\n",
        "df['StemmedText'] = df['TokenizedText'].apply(stem_text)\n"
      ],
      "metadata": {
        "id": "22OtQhFhqoUG"
      },
      "execution_count": null,
      "outputs": []
    },
    {
      "cell_type": "code",
      "source": [
        "# 4. Vectorización\n",
        "#Se convierten los textos preprocesados en vectores numéricos mediante Bag of Words y TF-IDF,\n",
        "#preparando los datos para su uso en modelos de Machine Learning.\n",
        "\n",
        "# Bag of Words\n",
        "vectorizer = CountVectorizer()\n",
        "X_bow = vectorizer.fit_transform(df['StemmedText'])\n",
        "\n",
        "# TF-IDF\n",
        "tfidf_vectorizer = TfidfVectorizer()\n",
        "X_tfidf = tfidf_vectorizer.fit_transform(df['StemmedText'])\n",
        "\n",
        "# Etiquetas (Sentiment)\n",
        "y = df['Sentiment']\n",
        "\n",
        "# División en conjuntos de entrenamiento y prueba\n",
        "X_train, X_test, y_train, y_test = train_test_split(X_tfidf, y, test_size=0.2, random_state=42)\n",
        "\n",
        "# Mostrar primeros ejemplos de los datos procesados\n",
        "print(\"Texto Original:\", df['ReviewText'].iloc[0])\n",
        "print(\"Texto Preprocesado:\", df['StemmedText'].iloc[0])"
      ],
      "metadata": {
        "id": "Decvf1gHiAQW",
        "colab": {
          "base_uri": "https://localhost:8080/"
        },
        "outputId": "23104970-a6dd-4259-dc73-3739ef9e6505"
      },
      "execution_count": null,
      "outputs": [
        {
          "output_type": "stream",
          "name": "stdout",
          "text": [
            "Texto Original: Great product, I loved it!\n",
            "Texto Preprocesado: great product love\n"
          ]
        }
      ]
    },
    {
      "cell_type": "markdown",
      "source": [
        "# 4. Propuesta de Modelado\n",
        "- añadir pasos o recursos a utilizar"
      ],
      "metadata": {
        "id": "jBLV0MGSqguM"
      }
    },
    {
      "cell_type": "markdown",
      "source": [
        "Dado que el conjunto de datos es relativamente simple y balanceado, se propone utilizar un modelo básico de Naive Bayes. Este modelo es eficiente para problemas de clasificación de texto y es una buena opción inicial para este tipo de análisis.\n",
        "\n",
        "Pasos para el modelado:\n",
        "\n",
        "Vectorizar el texto utilizando técnicas como TF-IDF.\n",
        "Entrenar el modelo con el dataset disponible.\n",
        "Evaluar el rendimiento con validación cruzada."
      ],
      "metadata": {
        "id": "hmxRFfgloWkB"
      }
    },
    {
      "cell_type": "code",
      "source": [],
      "metadata": {
        "id": "59yGcy9UqVjj"
      },
      "execution_count": null,
      "outputs": []
    },
    {
      "cell_type": "code",
      "source": [],
      "metadata": {
        "id": "bIpKLWfbqYZJ"
      },
      "execution_count": null,
      "outputs": []
    }
  ]
}